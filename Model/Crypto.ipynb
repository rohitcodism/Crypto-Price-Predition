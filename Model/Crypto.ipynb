{
 "cells": [
  {
   "metadata": {},
   "cell_type": "markdown",
   "source": [
    "# Forecasting Cryptocurrency Prices: A Comprehensive Analysis Using Daily Data\n",
    "\n",
    "![Crypto](https://jeangalea.com/wp-content/uploads/2021/04/Tokenized-stocks-800x540.png)\n",
    "\n",
    "## Introduction\n",
    "\n",
    "### Predicting Cryptocurrency Prices\n",
    "\n",
    "Cryptocurrencies have become a prominent asset class in the financial markets, characterized by their significant price fluctuations and complex behavior. Accurate prediction of cryptocurrency prices can provide substantial advantages for traders, investors, and analysts. This project focuses on forecasting the daily prices of cryptocurrencies using a dataset from Kaggle, which includes historical daily prices of various cryptocurrencies.\n",
    "\n",
    "### Project Objectives\n",
    "\n",
    "1. **Data Collection:** Utilize the \"Cryptocurrencies Daily Prices\" dataset from Kaggle, which contains daily price information for multiple cryptocurrencies. This dataset includes key features such as opening, closing, high, and low prices, as well as trading volume.\n",
    "2. **Data Preprocessing:** Prepare the dataset by handling missing values, normalizing features, and creating relevant new features. This step will ensure that the data is in the optimal format for analysis and modeling.\n",
    "3. **Exploratory Data Analysis (EDA):** Conduct an in-depth analysis to uncover trends, patterns, and correlations within the data. Visualization and statistical analysis will help in understanding the behavior of different cryptocurrencies over time.\n",
    "4. **Model Development:** Implement and evaluate various predictive models, including time series forecasting methods (e.g., ARIMA, Prophet) and machine learning algorithms (e.g., Linear Regression, Random Forest, Gradient Boosting). The goal is to identify the most effective approach for forecasting daily cryptocurrency prices.\n",
    "5. **Model Evaluation:** Assess the performance of the predictive models using metrics such as Mean Absolute Error (MAE), Mean Squared Error (MSE), and Root Mean Squared Error (RMSE). This evaluation will help in selecting the best-performing model.\n",
    "6. **Deployment and Analysis:** Prepare the final model for potential real-world application, and provide insights and recommendations based on the predictions. This may involve developing a simple API or integrating the model into a trading strategy.\n",
    "\n",
    "### Scope and Goals\n",
    "\n",
    "The scope of this project involves:\n",
    "- Analyzing daily price data for a selection of cryptocurrencies from the Kaggle dataset.\n",
    "- Applying data preprocessing techniques and feature engineering to enhance model performance.\n",
    "- Comparing various models to determine the most accurate forecasting method.\n",
    "- Presenting actionable insights and potential use cases for the model's predictions.\n",
    "\n",
    "This notebook will guide you through the entire process, from initial data exploration to the final model evaluation, with the aim of building a robust forecasting system for cryptocurrency prices."
   ],
   "id": "ec00c0aed8a48662"
  },
  {
   "metadata": {},
   "cell_type": "markdown",
   "source": [
    "## Steps of the Project\n",
    "\n",
    "### 1. **Data Collection**\n",
    "   **Description:** Acquire the dataset containing historical daily prices for various cryptocurrencies. This dataset includes key features such as opening, closing, high, and low prices, as well as trading volumes. The data can be sourced from Kaggle or other financial data providers.\n",
    "\n",
    "### 2. **Data Preprocessing**\n",
    "   **Description:** Prepare the data for analysis by cleaning and transforming it. This includes handling missing values, normalizing numerical features, and encoding categorical variables. Preprocessing also involves feature engineering to create new features that may improve model performance.\n",
    "\n",
    "### 3. **Exploratory Data Analysis (EDA)**\n",
    "   **Description:** Analyze the data to understand its structure and underlying patterns. This involves visualizing price trends, calculating summary statistics, and exploring relationships between different features. EDA helps in identifying trends, anomalies, and correlations that can inform model selection.\n",
    "\n",
    "### 4. **Feature Engineering**\n",
    "   **Description:** Develop new features from the existing data to enhance model performance. This might include calculating moving averages, volatility measures, or other technical indicators relevant to cryptocurrency trading. Feature engineering aims to provide the model with additional insights into price behavior.\n",
    "\n",
    "### 5. **Model Selection**\n",
    "   **Description:** Choose and implement various predictive models suitable for time series forecasting. Models may include statistical methods like ARIMA and SARIMA, or machine learning approaches such as Linear Regression, Random Forests, and Gradient Boosting. Each model will be evaluated to determine its suitability for predicting cryptocurrency prices.\n",
    "\n",
    "### 6. **Model Training**\n",
    "   **Description:** Train the selected models on the training data. This involves fitting the models to the historical price data and optimizing their parameters. Hyperparameter tuning and cross-validation are used to improve the models’ accuracy and generalization.\n",
    "\n",
    "### 7. **Model Evaluation**\n",
    "   **Description:** Assess the performance of the trained models using the testing data. Evaluate the models based on metrics such as Mean Absolute Error (MAE), Mean Squared Error (MSE), and Root Mean Squared Error (RMSE). This step helps in selecting the best-performing model.\n",
    "\n",
    "### 8. **Model Improvement**\n",
    "   **Description:** Refine and enhance the model based on evaluation results. This may involve feature selection, model tuning, or trying different algorithms. The goal is to improve prediction accuracy and ensure robustness.\n",
    "\n",
    "### 9. **Deployment**\n",
    "   **Description:** Prepare the final model for real-world application. This might involve developing an API or integrating the model into a web or mobile application. Deployment also includes setting up a system for continuous monitoring and updating of the model."
   ],
   "id": "8e0ce16f441d8805"
  },
  {
   "metadata": {},
   "cell_type": "markdown",
   "source": "## 0. Importing necessary libraries",
   "id": "d75c7fe7a718d487"
  },
  {
   "cell_type": "code",
   "id": "initial_id",
   "metadata": {
    "collapsed": true,
    "ExecuteTime": {
     "end_time": "2024-08-11T17:10:23.461614Z",
     "start_time": "2024-08-11T17:10:23.456877Z"
    }
   },
   "source": [
    "import numpy as np\n",
    "import pandas as pd\n",
    "import matplotlib.pyplot as plt\n",
    "import seaborn as sns\n",
    "import warnings\n",
    "warnings.filterwarnings('ignore', category=FutureWarning)"
   ],
   "outputs": [],
   "execution_count": 1
  },
  {
   "metadata": {},
   "cell_type": "markdown",
   "source": "## 1. **Data Loading and Preparation:**",
   "id": "f9cb7fefdffbe675"
  },
  {
   "metadata": {
    "ExecuteTime": {
     "end_time": "2024-08-11T17:10:23.486853Z",
     "start_time": "2024-08-11T17:10:23.461614Z"
    }
   },
   "cell_type": "code",
   "source": [
    "btc_data = pd.read_csv('../Dataset/BTC.csv')\n",
    "ltc_data = pd.read_csv('../Dataset/LTC.csv')\n",
    "eth_data = pd.read_csv('../Dataset/ETH.csv')"
   ],
   "id": "3ff7f229bd0a2ab8",
   "outputs": [],
   "execution_count": 2
  },
  {
   "metadata": {
    "ExecuteTime": {
     "end_time": "2024-08-11T17:10:23.492404Z",
     "start_time": "2024-08-11T17:10:23.486853Z"
    }
   },
   "cell_type": "code",
   "source": "df = pd.concat([btc_data, ltc_data, eth_data], ignore_index=True)",
   "id": "47c80298a2f406fb",
   "outputs": [],
   "execution_count": 3
  },
  {
   "metadata": {
    "ExecuteTime": {
     "end_time": "2024-08-11T17:10:23.496857Z",
     "start_time": "2024-08-11T17:10:23.492404Z"
    }
   },
   "cell_type": "code",
   "source": [
    "btc_df = pd.DataFrame(btc_data)\n",
    "ltc_df = pd.DataFrame(ltc_data)\n",
    "eth_df = pd.DataFrame(eth_data)"
   ],
   "id": "f8a8bb98a6eb1dbd",
   "outputs": [],
   "execution_count": 4
  },
  {
   "metadata": {
    "ExecuteTime": {
     "end_time": "2024-08-11T17:10:23.501822Z",
     "start_time": "2024-08-11T17:10:23.496857Z"
    }
   },
   "cell_type": "code",
   "source": "crypto_data = pd.DataFrame(df)",
   "id": "1beee3b1aadfd35b",
   "outputs": [],
   "execution_count": 5
  },
  {
   "metadata": {
    "ExecuteTime": {
     "end_time": "2024-08-11T17:10:23.519884Z",
     "start_time": "2024-08-11T17:10:23.501822Z"
    }
   },
   "cell_type": "code",
   "source": "crypto_data.head(5)",
   "id": "28f273779971285e",
   "outputs": [
    {
     "data": {
      "text/plain": [
       "  ticker        date     open     high      low    close\n",
       "0    BTC  2010-07-17  0.04951  0.04951  0.04951  0.04951\n",
       "1    BTC  2010-07-18  0.04951  0.08585  0.04951  0.08584\n",
       "2    BTC  2010-07-19  0.08584  0.09307  0.07723  0.08080\n",
       "3    BTC  2010-07-20  0.08080  0.08181  0.07426  0.07474\n",
       "4    BTC  2010-07-21  0.07474  0.07921  0.06634  0.07921"
      ],
      "text/html": [
       "<div>\n",
       "<style scoped>\n",
       "    .dataframe tbody tr th:only-of-type {\n",
       "        vertical-align: middle;\n",
       "    }\n",
       "\n",
       "    .dataframe tbody tr th {\n",
       "        vertical-align: top;\n",
       "    }\n",
       "\n",
       "    .dataframe thead th {\n",
       "        text-align: right;\n",
       "    }\n",
       "</style>\n",
       "<table border=\"1\" class=\"dataframe\">\n",
       "  <thead>\n",
       "    <tr style=\"text-align: right;\">\n",
       "      <th></th>\n",
       "      <th>ticker</th>\n",
       "      <th>date</th>\n",
       "      <th>open</th>\n",
       "      <th>high</th>\n",
       "      <th>low</th>\n",
       "      <th>close</th>\n",
       "    </tr>\n",
       "  </thead>\n",
       "  <tbody>\n",
       "    <tr>\n",
       "      <th>0</th>\n",
       "      <td>BTC</td>\n",
       "      <td>2010-07-17</td>\n",
       "      <td>0.04951</td>\n",
       "      <td>0.04951</td>\n",
       "      <td>0.04951</td>\n",
       "      <td>0.04951</td>\n",
       "    </tr>\n",
       "    <tr>\n",
       "      <th>1</th>\n",
       "      <td>BTC</td>\n",
       "      <td>2010-07-18</td>\n",
       "      <td>0.04951</td>\n",
       "      <td>0.08585</td>\n",
       "      <td>0.04951</td>\n",
       "      <td>0.08584</td>\n",
       "    </tr>\n",
       "    <tr>\n",
       "      <th>2</th>\n",
       "      <td>BTC</td>\n",
       "      <td>2010-07-19</td>\n",
       "      <td>0.08584</td>\n",
       "      <td>0.09307</td>\n",
       "      <td>0.07723</td>\n",
       "      <td>0.08080</td>\n",
       "    </tr>\n",
       "    <tr>\n",
       "      <th>3</th>\n",
       "      <td>BTC</td>\n",
       "      <td>2010-07-20</td>\n",
       "      <td>0.08080</td>\n",
       "      <td>0.08181</td>\n",
       "      <td>0.07426</td>\n",
       "      <td>0.07474</td>\n",
       "    </tr>\n",
       "    <tr>\n",
       "      <th>4</th>\n",
       "      <td>BTC</td>\n",
       "      <td>2010-07-21</td>\n",
       "      <td>0.07474</td>\n",
       "      <td>0.07921</td>\n",
       "      <td>0.06634</td>\n",
       "      <td>0.07921</td>\n",
       "    </tr>\n",
       "  </tbody>\n",
       "</table>\n",
       "</div>"
      ]
     },
     "execution_count": 6,
     "metadata": {},
     "output_type": "execute_result"
    }
   ],
   "execution_count": 6
  },
  {
   "metadata": {
    "ExecuteTime": {
     "end_time": "2024-08-11T17:10:23.525910Z",
     "start_time": "2024-08-11T17:10:23.519884Z"
    }
   },
   "cell_type": "code",
   "source": "crypto_data.shape",
   "id": "530906cdc1b190b3",
   "outputs": [
    {
     "data": {
      "text/plain": [
       "(12361, 6)"
      ]
     },
     "execution_count": 7,
     "metadata": {},
     "output_type": "execute_result"
    }
   ],
   "execution_count": 7
  },
  {
   "metadata": {},
   "cell_type": "markdown",
   "source": "## 2. Data Preprocessing",
   "id": "913d2b76df5ee1ad"
  },
  {
   "metadata": {},
   "cell_type": "markdown",
   "source": "### 2.1 Checking for different Crypto Currencies in the dataset",
   "id": "8895e2c0830442c6"
  },
  {
   "metadata": {
    "ExecuteTime": {
     "end_time": "2024-08-11T17:10:23.533352Z",
     "start_time": "2024-08-11T17:10:23.525910Z"
    }
   },
   "cell_type": "code",
   "source": "crypto_data['ticker'].value_counts()",
   "id": "34fc0386cb0e8cd5",
   "outputs": [
    {
     "data": {
      "text/plain": [
       "ticker\n",
       "BTC    5135\n",
       "LTC    3938\n",
       "ETH    3288\n",
       "Name: count, dtype: int64"
      ]
     },
     "execution_count": 8,
     "metadata": {},
     "output_type": "execute_result"
    }
   ],
   "execution_count": 8
  },
  {
   "metadata": {},
   "cell_type": "markdown",
   "source": "So there are total 128 types of cryptocurrencies. and we should check and clean each one of them for a proper cleaned and preprocessed data.",
   "id": "edc77c3cd41edc4"
  },
  {
   "metadata": {
    "ExecuteTime": {
     "end_time": "2024-08-11T17:10:23.541664Z",
     "start_time": "2024-08-11T17:10:23.533352Z"
    }
   },
   "cell_type": "code",
   "source": "crypto_data.isna().sum()",
   "id": "72feafd434ac6c7a",
   "outputs": [
    {
     "data": {
      "text/plain": [
       "ticker    0\n",
       "date      0\n",
       "open      0\n",
       "high      0\n",
       "low       0\n",
       "close     0\n",
       "dtype: int64"
      ]
     },
     "execution_count": 9,
     "metadata": {},
     "output_type": "execute_result"
    }
   ],
   "execution_count": 9
  },
  {
   "metadata": {},
   "cell_type": "markdown",
   "source": "So there is 0 null or na values in the dataset.",
   "id": "618f930b24051598"
  },
  {
   "metadata": {
    "ExecuteTime": {
     "end_time": "2024-08-11T17:10:23.551566Z",
     "start_time": "2024-08-11T17:10:23.541664Z"
    }
   },
   "cell_type": "code",
   "source": "crypto_data.duplicated().sum()",
   "id": "f96ae3e56c259a9",
   "outputs": [
    {
     "data": {
      "text/plain": [
       "0"
      ]
     },
     "execution_count": 10,
     "metadata": {},
     "output_type": "execute_result"
    }
   ],
   "execution_count": 10
  },
  {
   "metadata": {},
   "cell_type": "markdown",
   "source": "Also there is not even a single duplicated row in the dataset",
   "id": "4179fb31ac1fd025"
  },
  {
   "metadata": {
    "ExecuteTime": {
     "end_time": "2024-08-11T17:10:23.558386Z",
     "start_time": "2024-08-11T17:10:23.551566Z"
    }
   },
   "cell_type": "code",
   "source": "print(crypto_data.dtypes)",
   "id": "a6543fc89382aee8",
   "outputs": [
    {
     "name": "stdout",
     "output_type": "stream",
     "text": [
      "ticker     object\n",
      "date       object\n",
      "open      float64\n",
      "high      float64\n",
      "low       float64\n",
      "close     float64\n",
      "dtype: object\n"
     ]
    }
   ],
   "execution_count": 11
  },
  {
   "metadata": {},
   "cell_type": "markdown",
   "source": "### 2.2 Let's first explore the Bitcoin dataset",
   "id": "649ab24b1fbeb645"
  },
  {
   "metadata": {
    "ExecuteTime": {
     "end_time": "2024-08-11T17:10:23.569253Z",
     "start_time": "2024-08-11T17:10:23.558386Z"
    }
   },
   "cell_type": "code",
   "source": "btc_df",
   "id": "8403663f93084cac",
   "outputs": [
    {
     "data": {
      "text/plain": [
       "     ticker        date         open         high          low        close\n",
       "0       BTC  2010-07-17      0.04951      0.04951      0.04951      0.04951\n",
       "1       BTC  2010-07-18      0.04951      0.08585      0.04951      0.08584\n",
       "2       BTC  2010-07-19      0.08584      0.09307      0.07723      0.08080\n",
       "3       BTC  2010-07-20      0.08080      0.08181      0.07426      0.07474\n",
       "4       BTC  2010-07-21      0.07474      0.07921      0.06634      0.07921\n",
       "...     ...         ...          ...          ...          ...          ...\n",
       "5130    BTC  2024-08-02  64835.80000  65558.90000  61234.40000  61915.70000\n",
       "5131    BTC  2024-08-03  61922.70000  62177.00000  59843.10000  60605.30000\n",
       "5132    BTC  2024-08-04  60609.80000  61075.20000  57164.50000  58443.00000\n",
       "5133    BTC  2024-08-05  58443.00000  59100.90000  48999.50000  54375.70000\n",
       "5134    BTC  2024-08-06  54380.30000  57046.60000  53909.10000  56479.50000\n",
       "\n",
       "[5135 rows x 6 columns]"
      ],
      "text/html": [
       "<div>\n",
       "<style scoped>\n",
       "    .dataframe tbody tr th:only-of-type {\n",
       "        vertical-align: middle;\n",
       "    }\n",
       "\n",
       "    .dataframe tbody tr th {\n",
       "        vertical-align: top;\n",
       "    }\n",
       "\n",
       "    .dataframe thead th {\n",
       "        text-align: right;\n",
       "    }\n",
       "</style>\n",
       "<table border=\"1\" class=\"dataframe\">\n",
       "  <thead>\n",
       "    <tr style=\"text-align: right;\">\n",
       "      <th></th>\n",
       "      <th>ticker</th>\n",
       "      <th>date</th>\n",
       "      <th>open</th>\n",
       "      <th>high</th>\n",
       "      <th>low</th>\n",
       "      <th>close</th>\n",
       "    </tr>\n",
       "  </thead>\n",
       "  <tbody>\n",
       "    <tr>\n",
       "      <th>0</th>\n",
       "      <td>BTC</td>\n",
       "      <td>2010-07-17</td>\n",
       "      <td>0.04951</td>\n",
       "      <td>0.04951</td>\n",
       "      <td>0.04951</td>\n",
       "      <td>0.04951</td>\n",
       "    </tr>\n",
       "    <tr>\n",
       "      <th>1</th>\n",
       "      <td>BTC</td>\n",
       "      <td>2010-07-18</td>\n",
       "      <td>0.04951</td>\n",
       "      <td>0.08585</td>\n",
       "      <td>0.04951</td>\n",
       "      <td>0.08584</td>\n",
       "    </tr>\n",
       "    <tr>\n",
       "      <th>2</th>\n",
       "      <td>BTC</td>\n",
       "      <td>2010-07-19</td>\n",
       "      <td>0.08584</td>\n",
       "      <td>0.09307</td>\n",
       "      <td>0.07723</td>\n",
       "      <td>0.08080</td>\n",
       "    </tr>\n",
       "    <tr>\n",
       "      <th>3</th>\n",
       "      <td>BTC</td>\n",
       "      <td>2010-07-20</td>\n",
       "      <td>0.08080</td>\n",
       "      <td>0.08181</td>\n",
       "      <td>0.07426</td>\n",
       "      <td>0.07474</td>\n",
       "    </tr>\n",
       "    <tr>\n",
       "      <th>4</th>\n",
       "      <td>BTC</td>\n",
       "      <td>2010-07-21</td>\n",
       "      <td>0.07474</td>\n",
       "      <td>0.07921</td>\n",
       "      <td>0.06634</td>\n",
       "      <td>0.07921</td>\n",
       "    </tr>\n",
       "    <tr>\n",
       "      <th>...</th>\n",
       "      <td>...</td>\n",
       "      <td>...</td>\n",
       "      <td>...</td>\n",
       "      <td>...</td>\n",
       "      <td>...</td>\n",
       "      <td>...</td>\n",
       "    </tr>\n",
       "    <tr>\n",
       "      <th>5130</th>\n",
       "      <td>BTC</td>\n",
       "      <td>2024-08-02</td>\n",
       "      <td>64835.80000</td>\n",
       "      <td>65558.90000</td>\n",
       "      <td>61234.40000</td>\n",
       "      <td>61915.70000</td>\n",
       "    </tr>\n",
       "    <tr>\n",
       "      <th>5131</th>\n",
       "      <td>BTC</td>\n",
       "      <td>2024-08-03</td>\n",
       "      <td>61922.70000</td>\n",
       "      <td>62177.00000</td>\n",
       "      <td>59843.10000</td>\n",
       "      <td>60605.30000</td>\n",
       "    </tr>\n",
       "    <tr>\n",
       "      <th>5132</th>\n",
       "      <td>BTC</td>\n",
       "      <td>2024-08-04</td>\n",
       "      <td>60609.80000</td>\n",
       "      <td>61075.20000</td>\n",
       "      <td>57164.50000</td>\n",
       "      <td>58443.00000</td>\n",
       "    </tr>\n",
       "    <tr>\n",
       "      <th>5133</th>\n",
       "      <td>BTC</td>\n",
       "      <td>2024-08-05</td>\n",
       "      <td>58443.00000</td>\n",
       "      <td>59100.90000</td>\n",
       "      <td>48999.50000</td>\n",
       "      <td>54375.70000</td>\n",
       "    </tr>\n",
       "    <tr>\n",
       "      <th>5134</th>\n",
       "      <td>BTC</td>\n",
       "      <td>2024-08-06</td>\n",
       "      <td>54380.30000</td>\n",
       "      <td>57046.60000</td>\n",
       "      <td>53909.10000</td>\n",
       "      <td>56479.50000</td>\n",
       "    </tr>\n",
       "  </tbody>\n",
       "</table>\n",
       "<p>5135 rows × 6 columns</p>\n",
       "</div>"
      ]
     },
     "execution_count": 12,
     "metadata": {},
     "output_type": "execute_result"
    }
   ],
   "execution_count": 12
  },
  {
   "metadata": {},
   "cell_type": "markdown",
   "source": "**Let's explore the correlation map of the BTC dataset first.**",
   "id": "6dd1403444aff63"
  },
  {
   "metadata": {
    "ExecuteTime": {
     "end_time": "2024-08-11T17:10:23.786375Z",
     "start_time": "2024-08-11T17:10:23.569253Z"
    }
   },
   "cell_type": "code",
   "source": [
    "btc_corr = btc_df.corr(numeric_only=True)\n",
    "\n",
    "plt.figure(figsize=(10,10))\n",
    "sns.heatmap(btc_corr, annot=True, cmap='Blues')\n",
    "plt.show()"
   ],
   "id": "3a1f6405de698fa2",
   "outputs": [
    {
     "data": {
      "text/plain": [
       "<Figure size 1000x1000 with 2 Axes>"
      ],
      "image/png": "[encoded data removed]"
     },
     "metadata": {},
     "output_type": "display_data"
    }
   ],
   "execution_count": 13
  },
  {
   "metadata": {
    "ExecuteTime": {
     "end_time": "2024-08-11T17:10:24.357868Z",
     "start_time": "2024-08-11T17:10:23.786375Z"
    }
   },
   "cell_type": "code",
   "source": [
    "plt.figure(figsize=(14, 7))\n",
    "plt.plot(btc_df['date'], btc_df['close'], label='Close Price')\n",
    "plt.xticks(ticks=btc_df['date'][::365], rotation=45)\n",
    "plt.xlabel('Date')\n",
    "plt.ylabel('Price')\n",
    "plt.title('Cryptocurrency Close Prices Over Time')\n",
    "plt.legend()\n",
    "plt.show()"
   ],
   "id": "adb1ef1af699edac",
   "outputs": [
    {
     "data": {
      "text/plain": [
       "<Figure size 1400x700 with 1 Axes>"
      ],
      "image/png": "[encoded data removed]"
     },
     "metadata": {},
     "output_type": "display_data"
    }
   ],
   "execution_count": 14
  },
  {
   "metadata": {
    "ExecuteTime": {
     "end_time": "2024-08-11T17:10:24.366521Z",
     "start_time": "2024-08-11T17:10:24.357868Z"
    }
   },
   "cell_type": "code",
   "source": "btc_df['date'] = pd.to_datetime(btc_df['date'])",
   "id": "33689ff542b161ab",
   "outputs": [],
   "execution_count": 15
  },
  {
   "metadata": {
    "ExecuteTime": {
     "end_time": "2024-08-11T17:10:24.374239Z",
     "start_time": "2024-08-11T17:10:24.366521Z"
    }
   },
   "cell_type": "code",
   "source": "btc_df.dtypes",
   "id": "fdc7c8c97ba07467",
   "outputs": [
    {
     "data": {
      "text/plain": [
       "ticker            object\n",
       "date      datetime64[ns]\n",
       "open             float64\n",
       "high             float64\n",
       "low              float64\n",
       "close            float64\n",
       "dtype: object"
      ]
     },
     "execution_count": 16,
     "metadata": {},
     "output_type": "execute_result"
    }
   ],
   "execution_count": 16
  },
  {
   "metadata": {
    "ExecuteTime": {
     "end_time": "2024-08-11T17:10:24.384679Z",
     "start_time": "2024-08-11T17:10:24.374239Z"
    }
   },
   "cell_type": "code",
   "source": "btc_df.head(5)",
   "id": "faf973b1653788eb",
   "outputs": [
    {
     "data": {
      "text/plain": [
       "  ticker       date     open     high      low    close\n",
       "0    BTC 2010-07-17  0.04951  0.04951  0.04951  0.04951\n",
       "1    BTC 2010-07-18  0.04951  0.08585  0.04951  0.08584\n",
       "2    BTC 2010-07-19  0.08584  0.09307  0.07723  0.08080\n",
       "3    BTC 2010-07-20  0.08080  0.08181  0.07426  0.07474\n",
       "4    BTC 2010-07-21  0.07474  0.07921  0.06634  0.07921"
      ],
      "text/html": [
       "<div>\n",
       "<style scoped>\n",
       "    .dataframe tbody tr th:only-of-type {\n",
       "        vertical-align: middle;\n",
       "    }\n",
       "\n",
       "    .dataframe tbody tr th {\n",
       "        vertical-align: top;\n",
       "    }\n",
       "\n",
       "    .dataframe thead th {\n",
       "        text-align: right;\n",
       "    }\n",
       "</style>\n",
       "<table border=\"1\" class=\"dataframe\">\n",
       "  <thead>\n",
       "    <tr style=\"text-align: right;\">\n",
       "      <th></th>\n",
       "      <th>ticker</th>\n",
       "      <th>date</th>\n",
       "      <th>open</th>\n",
       "      <th>high</th>\n",
       "      <th>low</th>\n",
       "      <th>close</th>\n",
       "    </tr>\n",
       "  </thead>\n",
       "  <tbody>\n",
       "    <tr>\n",
       "      <th>0</th>\n",
       "      <td>BTC</td>\n",
       "      <td>2010-07-17</td>\n",
       "      <td>0.04951</td>\n",
       "      <td>0.04951</td>\n",
       "      <td>0.04951</td>\n",
       "      <td>0.04951</td>\n",
       "    </tr>\n",
       "    <tr>\n",
       "      <th>1</th>\n",
       "      <td>BTC</td>\n",
       "      <td>2010-07-18</td>\n",
       "      <td>0.04951</td>\n",
       "      <td>0.08585</td>\n",
       "      <td>0.04951</td>\n",
       "      <td>0.08584</td>\n",
       "    </tr>\n",
       "    <tr>\n",
       "      <th>2</th>\n",
       "      <td>BTC</td>\n",
       "      <td>2010-07-19</td>\n",
       "      <td>0.08584</td>\n",
       "      <td>0.09307</td>\n",
       "      <td>0.07723</td>\n",
       "      <td>0.08080</td>\n",
       "    </tr>\n",
       "    <tr>\n",
       "      <th>3</th>\n",
       "      <td>BTC</td>\n",
       "      <td>2010-07-20</td>\n",
       "      <td>0.08080</td>\n",
       "      <td>0.08181</td>\n",
       "      <td>0.07426</td>\n",
       "      <td>0.07474</td>\n",
       "    </tr>\n",
       "    <tr>\n",
       "      <th>4</th>\n",
       "      <td>BTC</td>\n",
       "      <td>2010-07-21</td>\n",
       "      <td>0.07474</td>\n",
       "      <td>0.07921</td>\n",
       "      <td>0.06634</td>\n",
       "      <td>0.07921</td>\n",
       "    </tr>\n",
       "  </tbody>\n",
       "</table>\n",
       "</div>"
      ]
     },
     "execution_count": 17,
     "metadata": {},
     "output_type": "execute_result"
    }
   ],
   "execution_count": 17
  },
  {
   "metadata": {
    "ExecuteTime": {
     "end_time": "2024-08-11T17:10:24.390999Z",
     "start_time": "2024-08-11T17:10:24.384679Z"
    }
   },
   "cell_type": "code",
   "source": "btc_df['day_of_week'] = btc_df['date'].dt.dayofweek",
   "id": "87cfd8fe9fe49ca",
   "outputs": [],
   "execution_count": 18
  },
  {
   "metadata": {
    "ExecuteTime": {
     "end_time": "2024-08-11T17:10:24.406267Z",
     "start_time": "2024-08-11T17:10:24.390999Z"
    }
   },
   "cell_type": "code",
   "source": "btc_df.groupby('day_of_week').mean('close')",
   "id": "1e633b66d15c1464",
   "outputs": [
    {
     "data": {
      "text/plain": [
       "                     open          high           low         close\n",
       "day_of_week                                                        \n",
       "0            12228.777685  12588.421061  11868.394595  12272.670430\n",
       "1            12272.319041  12570.963887  11924.884797  12260.585147\n",
       "2            12200.240529  12553.713446  11865.918272  12247.366752\n",
       "3            12246.715210  12542.325887  11891.794496  12214.873513\n",
       "4            12214.024250  12523.980174  11841.186491  12203.693562\n",
       "5            12186.721826  12418.780942  11976.145967  12218.441136\n",
       "6            12218.170659  12446.512136  11962.018250  12228.862126"
      ],
      "text/html": [
       "<div>\n",
       "<style scoped>\n",
       "    .dataframe tbody tr th:only-of-type {\n",
       "        vertical-align: middle;\n",
       "    }\n",
       "\n",
       "    .dataframe tbody tr th {\n",
       "        vertical-align: top;\n",
       "    }\n",
       "\n",
       "    .dataframe thead th {\n",
       "        text-align: right;\n",
       "    }\n",
       "</style>\n",
       "<table border=\"1\" class=\"dataframe\">\n",
       "  <thead>\n",
       "    <tr style=\"text-align: right;\">\n",
       "      <th></th>\n",
       "      <th>open</th>\n",
       "      <th>high</th>\n",
       "      <th>low</th>\n",
       "      <th>close</th>\n",
       "    </tr>\n",
       "    <tr>\n",
       "      <th>day_of_week</th>\n",
       "      <th></th>\n",
       "      <th></th>\n",
       "      <th></th>\n",
       "      <th></th>\n",
       "    </tr>\n",
       "  </thead>\n",
       "  <tbody>\n",
       "    <tr>\n",
       "      <th>0</th>\n",
       "      <td>12228.777685</td>\n",
       "      <td>12588.421061</td>\n",
       "      <td>11868.394595</td>\n",
       "      <td>12272.670430</td>\n",
       "    </tr>\n",
       "    <tr>\n",
       "      <th>1</th>\n",
       "      <td>12272.319041</td>\n",
       "      <td>12570.963887</td>\n",
       "      <td>11924.884797</td>\n",
       "      <td>12260.585147</td>\n",
       "    </tr>\n",
       "    <tr>\n",
       "      <th>2</th>\n",
       "      <td>12200.240529</td>\n",
       "      <td>12553.713446</td>\n",
       "      <td>11865.918272</td>\n",
       "      <td>12247.366752</td>\n",
       "    </tr>\n",
       "    <tr>\n",
       "      <th>3</th>\n",
       "      <td>12246.715210</td>\n",
       "      <td>12542.325887</td>\n",
       "      <td>11891.794496</td>\n",
       "      <td>12214.873513</td>\n",
       "    </tr>\n",
       "    <tr>\n",
       "      <th>4</th>\n",
       "      <td>12214.024250</td>\n",
       "      <td>12523.980174</td>\n",
       "      <td>11841.186491</td>\n",
       "      <td>12203.693562</td>\n",
       "    </tr>\n",
       "    <tr>\n",
       "      <th>5</th>\n",
       "      <td>12186.721826</td>\n",
       "      <td>12418.780942</td>\n",
       "      <td>11976.145967</td>\n",
       "      <td>12218.441136</td>\n",
       "    </tr>\n",
       "    <tr>\n",
       "      <th>6</th>\n",
       "      <td>12218.170659</td>\n",
       "      <td>12446.512136</td>\n",
       "      <td>11962.018250</td>\n",
       "      <td>12228.862126</td>\n",
       "    </tr>\n",
       "  </tbody>\n",
       "</table>\n",
       "</div>"
      ]
     },
     "execution_count": 19,
     "metadata": {},
     "output_type": "execute_result"
    }
   ],
   "execution_count": 19
  },
  {
   "metadata": {
    "ExecuteTime": {
     "end_time": "2024-08-11T17:10:24.412096Z",
     "start_time": "2024-08-11T17:10:24.406267Z"
    }
   },
   "cell_type": "code",
   "source": "btc_df['is_weekend'] = btc_df['date'].dt.weekday >= 5",
   "id": "6a7d456d9f588e07",
   "outputs": [],
   "execution_count": 20
  },
  {
   "metadata": {
    "ExecuteTime": {
     "end_time": "2024-08-11T17:10:24.422074Z",
     "start_time": "2024-08-11T17:10:24.412096Z"
    }
   },
   "cell_type": "code",
   "source": "btc_df.head(5)",
   "id": "e830d693cd050c41",
   "outputs": [
    {
     "data": {
      "text/plain": [
       "  ticker       date     open     high      low    close  day_of_week  \\\n",
       "0    BTC 2010-07-17  0.04951  0.04951  0.04951  0.04951            5   \n",
       "1    BTC 2010-07-18  0.04951  0.08585  0.04951  0.08584            6   \n",
       "2    BTC 2010-07-19  0.08584  0.09307  0.07723  0.08080            0   \n",
       "3    BTC 2010-07-20  0.08080  0.08181  0.07426  0.07474            1   \n",
       "4    BTC 2010-07-21  0.07474  0.07921  0.06634  0.07921            2   \n",
       "\n",
       "   is_weekend  \n",
       "0        True  \n",
       "1        True  \n",
       "2       False  \n",
       "3       False  \n",
       "4       False  "
      ],
      "text/html": [
       "<div>\n",
       "<style scoped>\n",
       "    .dataframe tbody tr th:only-of-type {\n",
       "        vertical-align: middle;\n",
       "    }\n",
       "\n",
       "    .dataframe tbody tr th {\n",
       "        vertical-align: top;\n",
       "    }\n",
       "\n",
       "    .dataframe thead th {\n",
       "        text-align: right;\n",
       "    }\n",
       "</style>\n",
       "<table border=\"1\" class=\"dataframe\">\n",
       "  <thead>\n",
       "    <tr style=\"text-align: right;\">\n",
       "      <th></th>\n",
       "      <th>ticker</th>\n",
       "      <th>date</th>\n",
       "      <th>open</th>\n",
       "      <th>high</th>\n",
       "      <th>low</th>\n",
       "      <th>close</th>\n",
       "      <th>day_of_week</th>\n",
       "      <th>is_weekend</th>\n",
       "    </tr>\n",
       "  </thead>\n",
       "  <tbody>\n",
       "    <tr>\n",
       "      <th>0</th>\n",
       "      <td>BTC</td>\n",
       "      <td>2010-07-17</td>\n",
       "      <td>0.04951</td>\n",
       "      <td>0.04951</td>\n",
       "      <td>0.04951</td>\n",
       "      <td>0.04951</td>\n",
       "      <td>5</td>\n",
       "      <td>True</td>\n",
       "    </tr>\n",
       "    <tr>\n",
       "      <th>1</th>\n",
       "      <td>BTC</td>\n",
       "      <td>2010-07-18</td>\n",
       "      <td>0.04951</td>\n",
       "      <td>0.08585</td>\n",
       "      <td>0.04951</td>\n",
       "      <td>0.08584</td>\n",
       "      <td>6</td>\n",
       "      <td>True</td>\n",
       "    </tr>\n",
       "    <tr>\n",
       "      <th>2</th>\n",
       "      <td>BTC</td>\n",
       "      <td>2010-07-19</td>\n",
       "      <td>0.08584</td>\n",
       "      <td>0.09307</td>\n",
       "      <td>0.07723</td>\n",
       "      <td>0.08080</td>\n",
       "      <td>0</td>\n",
       "      <td>False</td>\n",
       "    </tr>\n",
       "    <tr>\n",
       "      <th>3</th>\n",
       "      <td>BTC</td>\n",
       "      <td>2010-07-20</td>\n",
       "      <td>0.08080</td>\n",
       "      <td>0.08181</td>\n",
       "      <td>0.07426</td>\n",
       "      <td>0.07474</td>\n",
       "      <td>1</td>\n",
       "      <td>False</td>\n",
       "    </tr>\n",
       "    <tr>\n",
       "      <th>4</th>\n",
       "      <td>BTC</td>\n",
       "      <td>2010-07-21</td>\n",
       "      <td>0.07474</td>\n",
       "      <td>0.07921</td>\n",
       "      <td>0.06634</td>\n",
       "      <td>0.07921</td>\n",
       "      <td>2</td>\n",
       "      <td>False</td>\n",
       "    </tr>\n",
       "  </tbody>\n",
       "</table>\n",
       "</div>"
      ]
     },
     "execution_count": 21,
     "metadata": {},
     "output_type": "execute_result"
    }
   ],
   "execution_count": 21
  },
  {
   "metadata": {
    "ExecuteTime": {
     "end_time": "2024-08-11T17:10:24.428457Z",
     "start_time": "2024-08-11T17:10:24.422074Z"
    }
   },
   "cell_type": "code",
   "source": [
    "btc_df['quarter'] = btc_df['date'].dt.quarter\n",
    "btc_df['month'] = btc_df['date'].dt.month"
   ],
   "id": "b5e3877b3652208c",
   "outputs": [],
   "execution_count": 22
  },
  {
   "metadata": {
    "ExecuteTime": {
     "end_time": "2024-08-11T17:10:24.438361Z",
     "start_time": "2024-08-11T17:10:24.428457Z"
    }
   },
   "cell_type": "code",
   "source": "btc_df.head(5)",
   "id": "94ec66113778ff2d",
   "outputs": [
    {
     "data": {
      "text/plain": [
       "  ticker       date     open     high      low    close  day_of_week  \\\n",
       "0    BTC 2010-07-17  0.04951  0.04951  0.04951  0.04951            5   \n",
       "1    BTC 2010-07-18  0.04951  0.08585  0.04951  0.08584            6   \n",
       "2    BTC 2010-07-19  0.08584  0.09307  0.07723  0.08080            0   \n",
       "3    BTC 2010-07-20  0.08080  0.08181  0.07426  0.07474            1   \n",
       "4    BTC 2010-07-21  0.07474  0.07921  0.06634  0.07921            2   \n",
       "\n",
       "   is_weekend  quarter  month  \n",
       "0        True        3      7  \n",
       "1        True        3      7  \n",
       "2       False        3      7  \n",
       "3       False        3      7  \n",
       "4       False        3      7  "
      ],
      "text/html": [
       "<div>\n",
       "<style scoped>\n",
       "    .dataframe tbody tr th:only-of-type {\n",
       "        vertical-align: middle;\n",
       "    }\n",
       "\n",
       "    .dataframe tbody tr th {\n",
       "        vertical-align: top;\n",
       "    }\n",
       "\n",
       "    .dataframe thead th {\n",
       "        text-align: right;\n",
       "    }\n",
       "</style>\n",
       "<table border=\"1\" class=\"dataframe\">\n",
       "  <thead>\n",
       "    <tr style=\"text-align: right;\">\n",
       "      <th></th>\n",
       "      <th>ticker</th>\n",
       "      <th>date</th>\n",
       "      <th>open</th>\n",
       "      <th>high</th>\n",
       "      <th>low</th>\n",
       "      <th>close</th>\n",
       "      <th>day_of_week</th>\n",
       "      <th>is_weekend</th>\n",
       "      <th>quarter</th>\n",
       "      <th>month</th>\n",
       "    </tr>\n",
       "  </thead>\n",
       "  <tbody>\n",
       "    <tr>\n",
       "      <th>0</th>\n",
       "      <td>BTC</td>\n",
       "      <td>2010-07-17</td>\n",
       "      <td>0.04951</td>\n",
       "      <td>0.04951</td>\n",
       "      <td>0.04951</td>\n",
       "      <td>0.04951</td>\n",
       "      <td>5</td>\n",
       "      <td>True</td>\n",
       "      <td>3</td>\n",
       "      <td>7</td>\n",
       "    </tr>\n",
       "    <tr>\n",
       "      <th>1</th>\n",
       "      <td>BTC</td>\n",
       "      <td>2010-07-18</td>\n",
       "      <td>0.04951</td>\n",
       "      <td>0.08585</td>\n",
       "      <td>0.04951</td>\n",
       "      <td>0.08584</td>\n",
       "      <td>6</td>\n",
       "      <td>True</td>\n",
       "      <td>3</td>\n",
       "      <td>7</td>\n",
       "    </tr>\n",
       "    <tr>\n",
       "      <th>2</th>\n",
       "      <td>BTC</td>\n",
       "      <td>2010-07-19</td>\n",
       "      <td>0.08584</td>\n",
       "      <td>0.09307</td>\n",
       "      <td>0.07723</td>\n",
       "      <td>0.08080</td>\n",
       "      <td>0</td>\n",
       "      <td>False</td>\n",
       "      <td>3</td>\n",
       "      <td>7</td>\n",
       "    </tr>\n",
       "    <tr>\n",
       "      <th>3</th>\n",
       "      <td>BTC</td>\n",
       "      <td>2010-07-20</td>\n",
       "      <td>0.08080</td>\n",
       "      <td>0.08181</td>\n",
       "      <td>0.07426</td>\n",
       "      <td>0.07474</td>\n",
       "      <td>1</td>\n",
       "      <td>False</td>\n",
       "      <td>3</td>\n",
       "      <td>7</td>\n",
       "    </tr>\n",
       "    <tr>\n",
       "      <th>4</th>\n",
       "      <td>BTC</td>\n",
       "      <td>2010-07-21</td>\n",
       "      <td>0.07474</td>\n",
       "      <td>0.07921</td>\n",
       "      <td>0.06634</td>\n",
       "      <td>0.07921</td>\n",
       "      <td>2</td>\n",
       "      <td>False</td>\n",
       "      <td>3</td>\n",
       "      <td>7</td>\n",
       "    </tr>\n",
       "  </tbody>\n",
       "</table>\n",
       "</div>"
      ]
     },
     "execution_count": 23,
     "metadata": {},
     "output_type": "execute_result"
    }
   ],
   "execution_count": 23
  },
  {
   "metadata": {
    "ExecuteTime": {
     "end_time": "2024-08-11T17:10:24.444181Z",
     "start_time": "2024-08-11T17:10:24.438361Z"
    }
   },
   "cell_type": "code",
   "source": "quarterly_mean = btc_df.groupby('quarter')['close'].mean()",
   "id": "3eae548829c724a9",
   "outputs": [],
   "execution_count": 24
  },
  {
   "metadata": {
    "ExecuteTime": {
     "end_time": "2024-08-11T17:10:24.450390Z",
     "start_time": "2024-08-11T17:10:24.444181Z"
    }
   },
   "cell_type": "code",
   "source": "monthly_mean = btc_df.groupby('month')['open'].mean()",
   "id": "9bad5a0d264a1451",
   "outputs": [],
   "execution_count": 25
  },
  {
   "metadata": {
    "ExecuteTime": {
     "end_time": "2024-08-11T17:10:24.456407Z",
     "start_time": "2024-08-11T17:10:24.450390Z"
    }
   },
   "cell_type": "code",
   "source": [
    "print(\"Quarterly mean: \\n\",quarterly_mean)\n",
    "print(\"Monthly mean: \\n\", monthly_mean)"
   ],
   "id": "e538e0d5a5add674",
   "outputs": [
    {
     "name": "stdout",
     "output_type": "stream",
     "text": [
      "Quarterly mean: \n",
      " quarter\n",
      "1    13431.125873\n",
      "2    14260.217157\n",
      "3    10486.957144\n",
      "4    10835.382779\n",
      "Name: close, dtype: float64\n",
      "Monthly mean: \n",
      " month\n",
      "1     11887.021853\n",
      "2     13152.533344\n",
      "3     15083.700878\n",
      "4     15464.291983\n",
      "5     14274.530369\n",
      "6     13152.213119\n",
      "7     12416.051548\n",
      "8     10011.915293\n",
      "9      8919.348558\n",
      "10     9982.104588\n",
      "11    11068.675724\n",
      "12    11369.736765\n",
      "Name: open, dtype: float64\n"
     ]
    }
   ],
   "execution_count": 26
  },
  {
   "metadata": {
    "ExecuteTime": {
     "end_time": "2024-08-11T17:10:24.608170Z",
     "start_time": "2024-08-11T17:10:24.456407Z"
    }
   },
   "cell_type": "code",
   "source": [
    "plt.figure(figsize=(10,6))\n",
    "plt.plot(monthly_mean)\n",
    "plt.xticks([1,2,3,4,5,6,7,8,9,10,11,12])\n",
    "plt.xlabel(\"Month of the year\")\n",
    "plt.ylabel(\"Closing Price\")\n",
    "plt.title(\"Closing Price v/s Month\")\n",
    "plt.show()"
   ],
   "id": "41cd20e101b51958",
   "outputs": [
    {
     "data": {
      "text/plain": [
       "<Figure size 1000x600 with 1 Axes>"
      ],
      "image/png": "[encoded data removed]"
     },
     "metadata": {},
     "output_type": "display_data"
    }
   ],
   "execution_count": 27
  },
  {
   "metadata": {
    "ExecuteTime": {
     "end_time": "2024-08-11T17:10:24.758251Z",
     "start_time": "2024-08-11T17:10:24.608170Z"
    }
   },
   "cell_type": "code",
   "source": [
    "plt.figure(figsize=(8, 5))\n",
    "quarterly_mean.plot(kind='bar', color='lightgreen')\n",
    "plt.title('Average Cryptocurrency Prices by Quarter')\n",
    "plt.xlabel('Quarter')\n",
    "plt.ylabel('Average Price')\n",
    "plt.xticks(rotation=0)\n",
    "plt.show()"
   ],
   "id": "b45179fbe6c10301",
   "outputs": [
    {
     "data": {
      "text/plain": [
       "<Figure size 800x500 with 1 Axes>"
      ],
      "image/png": "[encoded data removed]"
     },
     "metadata": {},
     "output_type": "display_data"
    }
   ],
   "execution_count": 28
  },
  {
   "metadata": {},
   "cell_type": "markdown",
   "source": [
    "### Cyclical Encoding Implementation\n",
    "\n",
    "In this project, cyclical encoding is used to transform time-based features such as months, quarters, and days of the week into a format that better captures their cyclical nature. This encoding helps machine learning models understand the periodicity of these features, which is crucial for time series forecasting.\n",
    "\n",
    "#### Steps for Cyclical Encoding:\n",
    "\n",
    "1. **Extract Time-Based Features:**\n",
    "   - Extract the month, quarter, and day of the week from the date column.\n",
    "\n",
    "2. **Apply Sine and Cosine Transformations:**\n",
    "   - For each time-based feature, apply sine and cosine transformations to capture the cyclical pattern. This involves converting the time-based features into two new features using the sine and cosine functions. For example, for a month feature, the transformations would be:\n",
    "     - `month_sin = sin(2 * π * month / 12)`\n",
    "     - `month_cos = cos(2 * π * month / 12)`\n",
    "   - Similar transformations are applied to the quarter and day of the week features.\n",
    "\n",
    "3. **Add Transformed Features to the Dataset:**\n",
    "   - Add the sine and cosine transformed features back to the dataset. This step ensures that the cyclical nature of the time-based features is preserved and can be utilized by the machine learning models.\n",
    "\n",
    "4. **Drop Original Time-Based Features:**\n",
    "   - After adding the transformed features, drop the original time-based features from the dataset. This step is necessary to avoid redundancy and potential multicollinearity in the dataset.\n",
    "\n",
    "#### Summary:\n",
    "\n",
    "The cyclical encoding ensures that the model can effectively learn and utilize the periodic patterns in the data, leading to more accurate predictions. This approach is particularly useful for time series forecasting tasks where understanding the cyclical nature of time-based features is essential."
   ],
   "id": "ce19c72126cda04a"
  },
  {
   "metadata": {},
   "cell_type": "markdown",
   "source": [
    "### Explanation of Cyclical Encoding example for Quarters\n",
    "\n",
    "In this project, cyclical encoding is used to transform the `quarter` feature into a format that better captures its cyclical nature. This encoding helps machine learning models understand the periodicity of the quarters, which is crucial for time series forecasting.\n",
    "\n",
    "#### Code Explanation:\n",
    "\n",
    "```python\n",
    "btc_df['quarter_sin'] = np.sin(2 * np.pi * btc_df['quarter'] / 4)\n",
    "btc_df['quarter_cos'] = np.cos(2 * np.pi * (btc_df['quarter'] / 4))\n",
    "```\n",
    "\n",
    "1. **Purpose**:\n",
    "   - The goal is to encode the `quarter` feature (which ranges from 1 to 4) into two new features: `quarter_sin` and `quarter_cos`. These new features will represent the cyclical nature of the quarters.\n",
    "\n",
    "2. **Mathematical Transformation**:\n",
    "   - **Sine Transformation**: `quarter_sin = np.sin(2 * π * quarter / 4)`\n",
    "     - This transformation converts the `quarter` value into a sine value, which captures the cyclical pattern.\n",
    "   - **Cosine Transformation**: `quarter_cos = np.cos(2 * π * (quarter / 4))`\n",
    "     - This transformation converts the `quarter` value into a cosine value, which also captures the cyclical pattern.\n",
    "\n",
    "3. **Why Use Sine and Cosine**:\n",
    "   - Sine and cosine functions are periodic and can effectively represent cyclical patterns. By using these transformations, the model can better understand the cyclical nature of the quarters.\n",
    "\n",
    "4. **Range of Values**:\n",
    "   - The sine and cosine transformations will map the `quarter` values to a range between -1 and 1, preserving the cyclical relationship.\n",
    "\n",
    "5. **Implementation**:\n",
    "   - The code applies the sine and cosine transformations to the `quarter` feature and adds the resulting values as new columns (`quarter_sin` and `quarter_cos`) in the `btc_df` DataFrame.\n",
    "\n",
    "#### Summary:\n",
    "\n",
    "By transforming the `quarter` feature into `quarter_sin` and `quarter_cos`, the cyclical nature of the quarters is preserved, allowing the machine learning model to better capture and utilize the periodic patterns in the data. This approach is particularly useful for time series forecasting tasks."
   ],
   "id": "79cbaa7bec9a4835"
  },
  {
   "metadata": {
    "ExecuteTime": {
     "end_time": "2024-08-11T17:10:24.765064Z",
     "start_time": "2024-08-11T17:10:24.758251Z"
    }
   },
   "cell_type": "code",
   "source": "btc_df['month_sin'] = np.sin(2*np.pi*(btc_df['month']/12))",
   "id": "e8ab214d917ff7d4",
   "outputs": [],
   "execution_count": 29
  },
  {
   "metadata": {
    "ExecuteTime": {
     "end_time": "2024-08-11T17:10:24.771709Z",
     "start_time": "2024-08-11T17:10:24.765064Z"
    }
   },
   "cell_type": "code",
   "source": "btc_df['month_cos'] = np.cos(2*np.pi*(btc_df['month']/12))",
   "id": "6b1b7077ac7232ee",
   "outputs": [],
   "execution_count": 30
  },
  {
   "metadata": {
    "ExecuteTime": {
     "end_time": "2024-08-11T17:10:24.787288Z",
     "start_time": "2024-08-11T17:10:24.771709Z"
    }
   },
   "cell_type": "code",
   "source": "btc_df.head(5)",
   "id": "488f87d21661ad0e",
   "outputs": [
    {
     "data": {
      "text/plain": [
       "  ticker       date     open     high      low    close  day_of_week  \\\n",
       "0    BTC 2010-07-17  0.04951  0.04951  0.04951  0.04951            5   \n",
       "1    BTC 2010-07-18  0.04951  0.08585  0.04951  0.08584            6   \n",
       "2    BTC 2010-07-19  0.08584  0.09307  0.07723  0.08080            0   \n",
       "3    BTC 2010-07-20  0.08080  0.08181  0.07426  0.07474            1   \n",
       "4    BTC 2010-07-21  0.07474  0.07921  0.06634  0.07921            2   \n",
       "\n",
       "   is_weekend  quarter  month  month_sin  month_cos  \n",
       "0        True        3      7       -0.5  -0.866025  \n",
       "1        True        3      7       -0.5  -0.866025  \n",
       "2       False        3      7       -0.5  -0.866025  \n",
       "3       False        3      7       -0.5  -0.866025  \n",
       "4       False        3      7       -0.5  -0.866025  "
      ],
      "text/html": [
       "<div>\n",
       "<style scoped>\n",
       "    .dataframe tbody tr th:only-of-type {\n",
       "        vertical-align: middle;\n",
       "    }\n",
       "\n",
       "    .dataframe tbody tr th {\n",
       "        vertical-align: top;\n",
       "    }\n",
       "\n",
       "    .dataframe thead th {\n",
       "        text-align: right;\n",
       "    }\n",
       "</style>\n",
       "<table border=\"1\" class=\"dataframe\">\n",
       "  <thead>\n",
       "    <tr style=\"text-align: right;\">\n",
       "      <th></th>\n",
       "      <th>ticker</th>\n",
       "      <th>date</th>\n",
       "      <th>open</th>\n",
       "      <th>high</th>\n",
       "      <th>low</th>\n",
       "      <th>close</th>\n",
       "      <th>day_of_week</th>\n",
       "      <th>is_weekend</th>\n",
       "      <th>quarter</th>\n",
       "      <th>month</th>\n",
       "      <th>month_sin</th>\n",
       "      <th>month_cos</th>\n",
       "    </tr>\n",
       "  </thead>\n",
       "  <tbody>\n",
       "    <tr>\n",
       "      <th>0</th>\n",
       "      <td>BTC</td>\n",
       "      <td>2010-07-17</td>\n",
       "      <td>0.04951</td>\n",
       "      <td>0.04951</td>\n",
       "      <td>0.04951</td>\n",
       "      <td>0.04951</td>\n",
       "      <td>5</td>\n",
       "      <td>True</td>\n",
       "      <td>3</td>\n",
       "      <td>7</td>\n",
       "      <td>-0.5</td>\n",
       "      <td>-0.866025</td>\n",
       "    </tr>\n",
       "    <tr>\n",
       "      <th>1</th>\n",
       "      <td>BTC</td>\n",
       "      <td>2010-07-18</td>\n",
       "      <td>0.04951</td>\n",
       "      <td>0.08585</td>\n",
       "      <td>0.04951</td>\n",
       "      <td>0.08584</td>\n",
       "      <td>6</td>\n",
       "      <td>True</td>\n",
       "      <td>3</td>\n",
       "      <td>7</td>\n",
       "      <td>-0.5</td>\n",
       "      <td>-0.866025</td>\n",
       "    </tr>\n",
       "    <tr>\n",
       "      <th>2</th>\n",
       "      <td>BTC</td>\n",
       "      <td>2010-07-19</td>\n",
       "      <td>0.08584</td>\n",
       "      <td>0.09307</td>\n",
       "      <td>0.07723</td>\n",
       "      <td>0.08080</td>\n",
       "      <td>0</td>\n",
       "      <td>False</td>\n",
       "      <td>3</td>\n",
       "      <td>7</td>\n",
       "      <td>-0.5</td>\n",
       "      <td>-0.866025</td>\n",
       "    </tr>\n",
       "    <tr>\n",
       "      <th>3</th>\n",
       "      <td>BTC</td>\n",
       "      <td>2010-07-20</td>\n",
       "      <td>0.08080</td>\n",
       "      <td>0.08181</td>\n",
       "      <td>0.07426</td>\n",
       "      <td>0.07474</td>\n",
       "      <td>1</td>\n",
       "      <td>False</td>\n",
       "      <td>3</td>\n",
       "      <td>7</td>\n",
       "      <td>-0.5</td>\n",
       "      <td>-0.866025</td>\n",
       "    </tr>\n",
       "    <tr>\n",
       "      <th>4</th>\n",
       "      <td>BTC</td>\n",
       "      <td>2010-07-21</td>\n",
       "      <td>0.07474</td>\n",
       "      <td>0.07921</td>\n",
       "      <td>0.06634</td>\n",
       "      <td>0.07921</td>\n",
       "      <td>2</td>\n",
       "      <td>False</td>\n",
       "      <td>3</td>\n",
       "      <td>7</td>\n",
       "      <td>-0.5</td>\n",
       "      <td>-0.866025</td>\n",
       "    </tr>\n",
       "  </tbody>\n",
       "</table>\n",
       "</div>"
      ]
     },
     "execution_count": 31,
     "metadata": {},
     "output_type": "execute_result"
    }
   ],
   "execution_count": 31
  },
  {
   "metadata": {
    "ExecuteTime": {
     "end_time": "2024-08-11T17:10:24.794301Z",
     "start_time": "2024-08-11T17:10:24.787288Z"
    }
   },
   "cell_type": "code",
   "source": "btc_df['quarter'].unique()",
   "id": "6933f8ae2fdc3868",
   "outputs": [
    {
     "data": {
      "text/plain": [
       "array([3, 4, 1, 2])"
      ]
     },
     "execution_count": 32,
     "metadata": {},
     "output_type": "execute_result"
    }
   ],
   "execution_count": 32
  },
  {
   "metadata": {
    "ExecuteTime": {
     "end_time": "2024-08-11T17:10:24.802888Z",
     "start_time": "2024-08-11T17:10:24.794301Z"
    }
   },
   "cell_type": "code",
   "source": [
    "btc_df['quarter_sin'] = np.sin(2*np.pi*btc_df['quarter']/4)\n",
    "btc_df['quarter_cos'] = np.cos(2*np.pi*(btc_df['quarter']/4))"
   ],
   "id": "4a5028cdf78f446b",
   "outputs": [],
   "execution_count": 33
  },
  {
   "metadata": {
    "ExecuteTime": {
     "end_time": "2024-08-11T17:10:24.824358Z",
     "start_time": "2024-08-11T17:10:24.802888Z"
    }
   },
   "cell_type": "code",
   "source": "btc_df.head()",
   "id": "38a3a4202742b1f3",
   "outputs": [
    {
     "data": {
      "text/plain": [
       "  ticker       date     open     high      low    close  day_of_week  \\\n",
       "0    BTC 2010-07-17  0.04951  0.04951  0.04951  0.04951            5   \n",
       "1    BTC 2010-07-18  0.04951  0.08585  0.04951  0.08584            6   \n",
       "2    BTC 2010-07-19  0.08584  0.09307  0.07723  0.08080            0   \n",
       "3    BTC 2010-07-20  0.08080  0.08181  0.07426  0.07474            1   \n",
       "4    BTC 2010-07-21  0.07474  0.07921  0.06634  0.07921            2   \n",
       "\n",
       "   is_weekend  quarter  month  month_sin  month_cos  quarter_sin   quarter_cos  \n",
       "0        True        3      7       -0.5  -0.866025         -1.0 -1.836970e-16  \n",
       "1        True        3      7       -0.5  -0.866025         -1.0 -1.836970e-16  \n",
       "2       False        3      7       -0.5  -0.866025         -1.0 -1.836970e-16  \n",
       "3       False        3      7       -0.5  -0.866025         -1.0 -1.836970e-16  \n",
       "4       False        3      7       -0.5  -0.866025         -1.0 -1.836970e-16  "
      ],
      "text/html": [
       "<div>\n",
       "<style scoped>\n",
       "    .dataframe tbody tr th:only-of-type {\n",
       "        vertical-align: middle;\n",
       "    }\n",
       "\n",
       "    .dataframe tbody tr th {\n",
       "        vertical-align: top;\n",
       "    }\n",
       "\n",
       "    .dataframe thead th {\n",
       "        text-align: right;\n",
       "    }\n",
       "</style>\n",
       "<table border=\"1\" class=\"dataframe\">\n",
       "  <thead>\n",
       "    <tr style=\"text-align: right;\">\n",
       "      <th></th>\n",
       "      <th>ticker</th>\n",
       "      <th>date</th>\n",
       "      <th>open</th>\n",
       "      <th>high</th>\n",
       "      <th>low</th>\n",
       "      <th>close</th>\n",
       "      <th>day_of_week</th>\n",
       "      <th>is_weekend</th>\n",
       "      <th>quarter</th>\n",
       "      <th>month</th>\n",
       "      <th>month_sin</th>\n",
       "      <th>month_cos</th>\n",
       "      <th>quarter_sin</th>\n",
       "      <th>quarter_cos</th>\n",
       "    </tr>\n",
       "  </thead>\n",
       "  <tbody>\n",
       "    <tr>\n",
       "      <th>0</th>\n",
       "      <td>BTC</td>\n",
       "      <td>2010-07-17</td>\n",
       "      <td>0.04951</td>\n",
       "      <td>0.04951</td>\n",
       "      <td>0.04951</td>\n",
       "      <td>0.04951</td>\n",
       "      <td>5</td>\n",
       "      <td>True</td>\n",
       "      <td>3</td>\n",
       "      <td>7</td>\n",
       "      <td>-0.5</td>\n",
       "      <td>-0.866025</td>\n",
       "      <td>-1.0</td>\n",
       "      <td>-1.836970e-16</td>\n",
       "    </tr>\n",
       "    <tr>\n",
       "      <th>1</th>\n",
       "      <td>BTC</td>\n",
       "      <td>2010-07-18</td>\n",
       "      <td>0.04951</td>\n",
       "      <td>0.08585</td>\n",
       "      <td>0.04951</td>\n",
       "      <td>0.08584</td>\n",
       "      <td>6</td>\n",
       "      <td>True</td>\n",
       "      <td>3</td>\n",
       "      <td>7</td>\n",
       "      <td>-0.5</td>\n",
       "      <td>-0.866025</td>\n",
       "      <td>-1.0</td>\n",
       "      <td>-1.836970e-16</td>\n",
       "    </tr>\n",
       "    <tr>\n",
       "      <th>2</th>\n",
       "      <td>BTC</td>\n",
       "      <td>2010-07-19</td>\n",
       "      <td>0.08584</td>\n",
       "      <td>0.09307</td>\n",
       "      <td>0.07723</td>\n",
       "      <td>0.08080</td>\n",
       "      <td>0</td>\n",
       "      <td>False</td>\n",
       "      <td>3</td>\n",
       "      <td>7</td>\n",
       "      <td>-0.5</td>\n",
       "      <td>-0.866025</td>\n",
       "      <td>-1.0</td>\n",
       "      <td>-1.836970e-16</td>\n",
       "    </tr>\n",
       "    <tr>\n",
       "      <th>3</th>\n",
       "      <td>BTC</td>\n",
       "      <td>2010-07-20</td>\n",
       "      <td>0.08080</td>\n",
       "      <td>0.08181</td>\n",
       "      <td>0.07426</td>\n",
       "      <td>0.07474</td>\n",
       "      <td>1</td>\n",
       "      <td>False</td>\n",
       "      <td>3</td>\n",
       "      <td>7</td>\n",
       "      <td>-0.5</td>\n",
       "      <td>-0.866025</td>\n",
       "      <td>-1.0</td>\n",
       "      <td>-1.836970e-16</td>\n",
       "    </tr>\n",
       "    <tr>\n",
       "      <th>4</th>\n",
       "      <td>BTC</td>\n",
       "      <td>2010-07-21</td>\n",
       "      <td>0.07474</td>\n",
       "      <td>0.07921</td>\n",
       "      <td>0.06634</td>\n",
       "      <td>0.07921</td>\n",
       "      <td>2</td>\n",
       "      <td>False</td>\n",
       "      <td>3</td>\n",
       "      <td>7</td>\n",
       "      <td>-0.5</td>\n",
       "      <td>-0.866025</td>\n",
       "      <td>-1.0</td>\n",
       "      <td>-1.836970e-16</td>\n",
       "    </tr>\n",
       "  </tbody>\n",
       "</table>\n",
       "</div>"
      ]
     },
     "execution_count": 34,
     "metadata": {},
     "output_type": "execute_result"
    }
   ],
   "execution_count": 34
  },
  {
   "metadata": {
    "ExecuteTime": {
     "end_time": "2024-08-11T17:10:24.833554Z",
     "start_time": "2024-08-11T17:10:24.825369Z"
    }
   },
   "cell_type": "code",
   "source": [
    "btc_df['day_of_week_sin'] = np.sin(2 * np.pi * btc_df['day_of_week'] / 7)\n",
    "btc_df['day_of_week_cos'] = np.cos(2 * np.pi * btc_df['day_of_week'] / 7)"
   ],
   "id": "aa63278cb048deaf",
   "outputs": [],
   "execution_count": 35
  },
  {
   "metadata": {
    "ExecuteTime": {
     "end_time": "2024-08-11T17:10:24.848564Z",
     "start_time": "2024-08-11T17:10:24.833554Z"
    }
   },
   "cell_type": "code",
   "source": "btc_df.head(5)",
   "id": "9f7956953872abd3",
   "outputs": [
    {
     "data": {
      "text/plain": [
       "  ticker       date     open     high      low    close  day_of_week  \\\n",
       "0    BTC 2010-07-17  0.04951  0.04951  0.04951  0.04951            5   \n",
       "1    BTC 2010-07-18  0.04951  0.08585  0.04951  0.08584            6   \n",
       "2    BTC 2010-07-19  0.08584  0.09307  0.07723  0.08080            0   \n",
       "3    BTC 2010-07-20  0.08080  0.08181  0.07426  0.07474            1   \n",
       "4    BTC 2010-07-21  0.07474  0.07921  0.06634  0.07921            2   \n",
       "\n",
       "   is_weekend  quarter  month  month_sin  month_cos  quarter_sin  \\\n",
       "0        True        3      7       -0.5  -0.866025         -1.0   \n",
       "1        True        3      7       -0.5  -0.866025         -1.0   \n",
       "2       False        3      7       -0.5  -0.866025         -1.0   \n",
       "3       False        3      7       -0.5  -0.866025         -1.0   \n",
       "4       False        3      7       -0.5  -0.866025         -1.0   \n",
       "\n",
       "    quarter_cos  day_of_week_sin  day_of_week_cos  \n",
       "0 -1.836970e-16        -0.974928        -0.222521  \n",
       "1 -1.836970e-16        -0.781831         0.623490  \n",
       "2 -1.836970e-16         0.000000         1.000000  \n",
       "3 -1.836970e-16         0.781831         0.623490  \n",
       "4 -1.836970e-16         0.974928        -0.222521  "
      ],
      "text/html": [
       "<div>\n",
       "<style scoped>\n",
       "    .dataframe tbody tr th:only-of-type {\n",
       "        vertical-align: middle;\n",
       "    }\n",
       "\n",
       "    .dataframe tbody tr th {\n",
       "        vertical-align: top;\n",
       "    }\n",
       "\n",
       "    .dataframe thead th {\n",
       "        text-align: right;\n",
       "    }\n",
       "</style>\n",
       "<table border=\"1\" class=\"dataframe\">\n",
       "  <thead>\n",
       "    <tr style=\"text-align: right;\">\n",
       "      <th></th>\n",
       "      <th>ticker</th>\n",
       "      <th>date</th>\n",
       "      <th>open</th>\n",
       "      <th>high</th>\n",
       "      <th>low</th>\n",
       "      <th>close</th>\n",
       "      <th>day_of_week</th>\n",
       "      <th>is_weekend</th>\n",
       "      <th>quarter</th>\n",
       "      <th>month</th>\n",
       "      <th>month_sin</th>\n",
       "      <th>month_cos</th>\n",
       "      <th>quarter_sin</th>\n",
       "      <th>quarter_cos</th>\n",
       "      <th>day_of_week_sin</th>\n",
       "      <th>day_of_week_cos</th>\n",
       "    </tr>\n",
       "  </thead>\n",
       "  <tbody>\n",
       "    <tr>\n",
       "      <th>0</th>\n",
       "      <td>BTC</td>\n",
       "      <td>2010-07-17</td>\n",
       "      <td>0.04951</td>\n",
       "      <td>0.04951</td>\n",
       "      <td>0.04951</td>\n",
       "      <td>0.04951</td>\n",
       "      <td>5</td>\n",
       "      <td>True</td>\n",
       "      <td>3</td>\n",
       "      <td>7</td>\n",
       "      <td>-0.5</td>\n",
       "      <td>-0.866025</td>\n",
       "      <td>-1.0</td>\n",
       "      <td>-1.836970e-16</td>\n",
       "      <td>-0.974928</td>\n",
       "      <td>-0.222521</td>\n",
       "    </tr>\n",
       "    <tr>\n",
       "      <th>1</th>\n",
       "      <td>BTC</td>\n",
       "      <td>2010-07-18</td>\n",
       "      <td>0.04951</td>\n",
       "      <td>0.08585</td>\n",
       "      <td>0.04951</td>\n",
       "      <td>0.08584</td>\n",
       "      <td>6</td>\n",
       "      <td>True</td>\n",
       "      <td>3</td>\n",
       "      <td>7</td>\n",
       "      <td>-0.5</td>\n",
       "      <td>-0.866025</td>\n",
       "      <td>-1.0</td>\n",
       "      <td>-1.836970e-16</td>\n",
       "      <td>-0.781831</td>\n",
       "      <td>0.623490</td>\n",
       "    </tr>\n",
       "    <tr>\n",
       "      <th>2</th>\n",
       "      <td>BTC</td>\n",
       "      <td>2010-07-19</td>\n",
       "      <td>0.08584</td>\n",
       "      <td>0.09307</td>\n",
       "      <td>0.07723</td>\n",
       "      <td>0.08080</td>\n",
       "      <td>0</td>\n",
       "      <td>False</td>\n",
       "      <td>3</td>\n",
       "      <td>7</td>\n",
       "      <td>-0.5</td>\n",
       "      <td>-0.866025</td>\n",
       "      <td>-1.0</td>\n",
       "      <td>-1.836970e-16</td>\n",
       "      <td>0.000000</td>\n",
       "      <td>1.000000</td>\n",
       "    </tr>\n",
       "    <tr>\n",
       "      <th>3</th>\n",
       "      <td>BTC</td>\n",
       "      <td>2010-07-20</td>\n",
       "      <td>0.08080</td>\n",
       "      <td>0.08181</td>\n",
       "      <td>0.07426</td>\n",
       "      <td>0.07474</td>\n",
       "      <td>1</td>\n",
       "      <td>False</td>\n",
       "      <td>3</td>\n",
       "      <td>7</td>\n",
       "      <td>-0.5</td>\n",
       "      <td>-0.866025</td>\n",
       "      <td>-1.0</td>\n",
       "      <td>-1.836970e-16</td>\n",
       "      <td>0.781831</td>\n",
       "      <td>0.623490</td>\n",
       "    </tr>\n",
       "    <tr>\n",
       "      <th>4</th>\n",
       "      <td>BTC</td>\n",
       "      <td>2010-07-21</td>\n",
       "      <td>0.07474</td>\n",
       "      <td>0.07921</td>\n",
       "      <td>0.06634</td>\n",
       "      <td>0.07921</td>\n",
       "      <td>2</td>\n",
       "      <td>False</td>\n",
       "      <td>3</td>\n",
       "      <td>7</td>\n",
       "      <td>-0.5</td>\n",
       "      <td>-0.866025</td>\n",
       "      <td>-1.0</td>\n",
       "      <td>-1.836970e-16</td>\n",
       "      <td>0.974928</td>\n",
       "      <td>-0.222521</td>\n",
       "    </tr>\n",
       "  </tbody>\n",
       "</table>\n",
       "</div>"
      ]
     },
     "execution_count": 36,
     "metadata": {},
     "output_type": "execute_result"
    }
   ],
   "execution_count": 36
  },
  {
   "metadata": {
    "ExecuteTime": {
     "end_time": "2024-08-11T17:10:24.862572Z",
     "start_time": "2024-08-11T17:10:24.848564Z"
    }
   },
   "cell_type": "code",
   "source": "btc_df.drop(columns=['day_of_week', 'month', 'quarter']).head(5)",
   "id": "e33b7247bb77cb77",
   "outputs": [
    {
     "data": {
      "text/plain": [
       "  ticker       date     open     high      low    close  is_weekend  \\\n",
       "0    BTC 2010-07-17  0.04951  0.04951  0.04951  0.04951        True   \n",
       "1    BTC 2010-07-18  0.04951  0.08585  0.04951  0.08584        True   \n",
       "2    BTC 2010-07-19  0.08584  0.09307  0.07723  0.08080       False   \n",
       "3    BTC 2010-07-20  0.08080  0.08181  0.07426  0.07474       False   \n",
       "4    BTC 2010-07-21  0.07474  0.07921  0.06634  0.07921       False   \n",
       "\n",
       "   month_sin  month_cos  quarter_sin   quarter_cos  day_of_week_sin  \\\n",
       "0       -0.5  -0.866025         -1.0 -1.836970e-16        -0.974928   \n",
       "1       -0.5  -0.866025         -1.0 -1.836970e-16        -0.781831   \n",
       "2       -0.5  -0.866025         -1.0 -1.836970e-16         0.000000   \n",
       "3       -0.5  -0.866025         -1.0 -1.836970e-16         0.781831   \n",
       "4       -0.5  -0.866025         -1.0 -1.836970e-16         0.974928   \n",
       "\n",
       "   day_of_week_cos  \n",
       "0        -0.222521  \n",
       "1         0.623490  \n",
       "2         1.000000  \n",
       "3         0.623490  \n",
       "4        -0.222521  "
      ],
      "text/html": [
       "<div>\n",
       "<style scoped>\n",
       "    .dataframe tbody tr th:only-of-type {\n",
       "        vertical-align: middle;\n",
       "    }\n",
       "\n",
       "    .dataframe tbody tr th {\n",
       "        vertical-align: top;\n",
       "    }\n",
       "\n",
       "    .dataframe thead th {\n",
       "        text-align: right;\n",
       "    }\n",
       "</style>\n",
       "<table border=\"1\" class=\"dataframe\">\n",
       "  <thead>\n",
       "    <tr style=\"text-align: right;\">\n",
       "      <th></th>\n",
       "      <th>ticker</th>\n",
       "      <th>date</th>\n",
       "      <th>open</th>\n",
       "      <th>high</th>\n",
       "      <th>low</th>\n",
       "      <th>close</th>\n",
       "      <th>is_weekend</th>\n",
       "      <th>month_sin</th>\n",
       "      <th>month_cos</th>\n",
       "      <th>quarter_sin</th>\n",
       "      <th>quarter_cos</th>\n",
       "      <th>day_of_week_sin</th>\n",
       "      <th>day_of_week_cos</th>\n",
       "    </tr>\n",
       "  </thead>\n",
       "  <tbody>\n",
       "    <tr>\n",
       "      <th>0</th>\n",
       "      <td>BTC</td>\n",
       "      <td>2010-07-17</td>\n",
       "      <td>0.04951</td>\n",
       "      <td>0.04951</td>\n",
       "      <td>0.04951</td>\n",
       "      <td>0.04951</td>\n",
       "      <td>True</td>\n",
       "      <td>-0.5</td>\n",
       "      <td>-0.866025</td>\n",
       "      <td>-1.0</td>\n",
       "      <td>-1.836970e-16</td>\n",
       "      <td>-0.974928</td>\n",
       "      <td>-0.222521</td>\n",
       "    </tr>\n",
       "    <tr>\n",
       "      <th>1</th>\n",
       "      <td>BTC</td>\n",
       "      <td>2010-07-18</td>\n",
       "      <td>0.04951</td>\n",
       "      <td>0.08585</td>\n",
       "      <td>0.04951</td>\n",
       "      <td>0.08584</td>\n",
       "      <td>True</td>\n",
       "      <td>-0.5</td>\n",
       "      <td>-0.866025</td>\n",
       "      <td>-1.0</td>\n",
       "      <td>-1.836970e-16</td>\n",
       "      <td>-0.781831</td>\n",
       "      <td>0.623490</td>\n",
       "    </tr>\n",
       "    <tr>\n",
       "      <th>2</th>\n",
       "      <td>BTC</td>\n",
       "      <td>2010-07-19</td>\n",
       "      <td>0.08584</td>\n",
       "      <td>0.09307</td>\n",
       "      <td>0.07723</td>\n",
       "      <td>0.08080</td>\n",
       "      <td>False</td>\n",
       "      <td>-0.5</td>\n",
       "      <td>-0.866025</td>\n",
       "      <td>-1.0</td>\n",
       "      <td>-1.836970e-16</td>\n",
       "      <td>0.000000</td>\n",
       "      <td>1.000000</td>\n",
       "    </tr>\n",
       "    <tr>\n",
       "      <th>3</th>\n",
       "      <td>BTC</td>\n",
       "      <td>2010-07-20</td>\n",
       "      <td>0.08080</td>\n",
       "      <td>0.08181</td>\n",
       "      <td>0.07426</td>\n",
       "      <td>0.07474</td>\n",
       "      <td>False</td>\n",
       "      <td>-0.5</td>\n",
       "      <td>-0.866025</td>\n",
       "      <td>-1.0</td>\n",
       "      <td>-1.836970e-16</td>\n",
       "      <td>0.781831</td>\n",
       "      <td>0.623490</td>\n",
       "    </tr>\n",
       "    <tr>\n",
       "      <th>4</th>\n",
       "      <td>BTC</td>\n",
       "      <td>2010-07-21</td>\n",
       "      <td>0.07474</td>\n",
       "      <td>0.07921</td>\n",
       "      <td>0.06634</td>\n",
       "      <td>0.07921</td>\n",
       "      <td>False</td>\n",
       "      <td>-0.5</td>\n",
       "      <td>-0.866025</td>\n",
       "      <td>-1.0</td>\n",
       "      <td>-1.836970e-16</td>\n",
       "      <td>0.974928</td>\n",
       "      <td>-0.222521</td>\n",
       "    </tr>\n",
       "  </tbody>\n",
       "</table>\n",
       "</div>"
      ]
     },
     "execution_count": 37,
     "metadata": {},
     "output_type": "execute_result"
    }
   ],
   "execution_count": 37
  },
  {
   "metadata": {},
   "cell_type": "markdown",
   "source": [
    "## Lag Features\n",
    "\n",
    "### **ACF and PACF Analysis**\n",
    "\n",
    "In time series forecasting, understanding the relationships between current and past values is crucial. The Autocorrelation Function (ACF) and Partial Autocorrelation Function (PACF) are tools that help identify these relationships.\n",
    "\n",
    "- **ACF** shows the correlation between a time series and its lagged values, helping to identify patterns like seasonality.\n",
    "- **PACF** isolates the impact of individual lags by controlling for shorter lags, helping us determine which past values are most directly related to the current value.\n",
    "\n",
    "By analyzing these plots, we can choose the most relevant lag features for our forecasting model, improving its accuracy."
   ],
   "id": "a5616c47227f9276"
  },
  {
   "metadata": {
    "ExecuteTime": {
     "end_time": "2024-08-11T18:46:59.017419Z",
     "start_time": "2024-08-11T18:46:58.642373Z"
    }
   },
   "cell_type": "code",
   "source": "from statsmodels.graphics.tsaplots import plot_acf, plot_pacf",
   "id": "807d0bed34b496ae",
   "outputs": [],
   "execution_count": 38
  },
  {
   "metadata": {
    "ExecuteTime": {
     "end_time": "2024-08-11T18:47:28.230247Z",
     "start_time": "2024-08-11T18:47:28.221714Z"
    }
   },
   "cell_type": "code",
   "source": "series = btc_df['close']",
   "id": "395c1913a07225f0",
   "outputs": [],
   "execution_count": 39
  },
  {
   "metadata": {
    "ExecuteTime": {
     "end_time": "2024-08-11T19:30:35.658092Z",
     "start_time": "2024-08-11T19:30:35.380642Z"
    }
   },
   "cell_type": "code",
   "source": "plot_acf(series, lags=30)",
   "id": "c1c812f71878880c",
   "outputs": [
    {
     "data": {
      "text/plain": [
       "<Figure size 640x480 with 1 Axes>"
      ],
      "image/png": "[encoded data removed]"
     },
     "execution_count": 44,
     "metadata": {},
     "output_type": "execute_result"
    },
    {
     "data": {
      "text/plain": [
       "<Figure size 640x480 with 1 Axes>"
      ],
      "image/png": "[encoded data removed]"
     },
     "metadata": {},
     "output_type": "display_data"
    }
   ],
   "execution_count": 44
  },
  {
   "metadata": {
    "ExecuteTime": {
     "end_time": "2024-08-11T19:30:40.123180Z",
     "start_time": "2024-08-11T19:30:39.798937Z"
    }
   },
   "cell_type": "code",
   "source": "plot_pacf(series, lags=30)",
   "id": "d900075daada5e6d",
   "outputs": [
    {
     "data": {
      "text/plain": [
       "<Figure size 640x480 with 1 Axes>"
      ],
      "image/png": "[encoded data removed]"
     },
     "execution_count": 45,
     "metadata": {},
     "output_type": "execute_result"
    },
    {
     "data": {
      "text/plain": [
       "<Figure size 640x480 with 1 Axes>"
      ],
      "image/png": "[encoded data removed]"
     },
     "metadata": {},
     "output_type": "display_data"
    }
   ],
   "execution_count": 45
  },
  {
   "metadata": {
    "ExecuteTime": {
     "end_time": "2024-08-11T19:39:43.977837Z",
     "start_time": "2024-08-11T19:39:43.969510Z"
    }
   },
   "cell_type": "code",
   "source": [
    "btc_df['Lag_1'] = btc_df['close'].shift(1)\n",
    "btc_df['Lag_2'] = btc_df['close'].shift(2)"
   ],
   "id": "8be1533c28a250a2",
   "outputs": [],
   "execution_count": 47
  },
  {
   "metadata": {
    "ExecuteTime": {
     "end_time": "2024-08-11T19:39:49.275817Z",
     "start_time": "2024-08-11T19:39:49.257300Z"
    }
   },
   "cell_type": "code",
   "source": "btc_df.head(5)",
   "id": "2c2f138a86ef0832",
   "outputs": [
    {
     "data": {
      "text/plain": [
       "  ticker       date     open     high      low    close  day_of_week  \\\n",
       "0    BTC 2010-07-17  0.04951  0.04951  0.04951  0.04951            5   \n",
       "1    BTC 2010-07-18  0.04951  0.08585  0.04951  0.08584            6   \n",
       "2    BTC 2010-07-19  0.08584  0.09307  0.07723  0.08080            0   \n",
       "3    BTC 2010-07-20  0.08080  0.08181  0.07426  0.07474            1   \n",
       "4    BTC 2010-07-21  0.07474  0.07921  0.06634  0.07921            2   \n",
       "\n",
       "   is_weekend  quarter  month  month_sin  month_cos  quarter_sin  \\\n",
       "0        True        3      7       -0.5  -0.866025         -1.0   \n",
       "1        True        3      7       -0.5  -0.866025         -1.0   \n",
       "2       False        3      7       -0.5  -0.866025         -1.0   \n",
       "3       False        3      7       -0.5  -0.866025         -1.0   \n",
       "4       False        3      7       -0.5  -0.866025         -1.0   \n",
       "\n",
       "    quarter_cos  day_of_week_sin  day_of_week_cos    Lag_1    Lag_2  \n",
       "0 -1.836970e-16        -0.974928        -0.222521      NaN      NaN  \n",
       "1 -1.836970e-16        -0.781831         0.623490  0.04951      NaN  \n",
       "2 -1.836970e-16         0.000000         1.000000  0.08584  0.04951  \n",
       "3 -1.836970e-16         0.781831         0.623490  0.08080  0.08584  \n",
       "4 -1.836970e-16         0.974928        -0.222521  0.07474  0.08080  "
      ],
      "text/html": [
       "<div>\n",
       "<style scoped>\n",
       "    .dataframe tbody tr th:only-of-type {\n",
       "        vertical-align: middle;\n",
       "    }\n",
       "\n",
       "    .dataframe tbody tr th {\n",
       "        vertical-align: top;\n",
       "    }\n",
       "\n",
       "    .dataframe thead th {\n",
       "        text-align: right;\n",
       "    }\n",
       "</style>\n",
       "<table border=\"1\" class=\"dataframe\">\n",
       "  <thead>\n",
       "    <tr style=\"text-align: right;\">\n",
       "      <th></th>\n",
       "      <th>ticker</th>\n",
       "      <th>date</th>\n",
       "      <th>open</th>\n",
       "      <th>high</th>\n",
       "      <th>low</th>\n",
       "      <th>close</th>\n",
       "      <th>day_of_week</th>\n",
       "      <th>is_weekend</th>\n",
       "      <th>quarter</th>\n",
       "      <th>month</th>\n",
       "      <th>month_sin</th>\n",
       "      <th>month_cos</th>\n",
       "      <th>quarter_sin</th>\n",
       "      <th>quarter_cos</th>\n",
       "      <th>day_of_week_sin</th>\n",
       "      <th>day_of_week_cos</th>\n",
       "      <th>Lag_1</th>\n",
       "      <th>Lag_2</th>\n",
       "    </tr>\n",
       "  </thead>\n",
       "  <tbody>\n",
       "    <tr>\n",
       "      <th>0</th>\n",
       "      <td>BTC</td>\n",
       "      <td>2010-07-17</td>\n",
       "      <td>0.04951</td>\n",
       "      <td>0.04951</td>\n",
       "      <td>0.04951</td>\n",
       "      <td>0.04951</td>\n",
       "      <td>5</td>\n",
       "      <td>True</td>\n",
       "      <td>3</td>\n",
       "      <td>7</td>\n",
       "      <td>-0.5</td>\n",
       "      <td>-0.866025</td>\n",
       "      <td>-1.0</td>\n",
       "      <td>-1.836970e-16</td>\n",
       "      <td>-0.974928</td>\n",
       "      <td>-0.222521</td>\n",
       "      <td>NaN</td>\n",
       "      <td>NaN</td>\n",
       "    </tr>\n",
       "    <tr>\n",
       "      <th>1</th>\n",
       "      <td>BTC</td>\n",
       "      <td>2010-07-18</td>\n",
       "      <td>0.04951</td>\n",
       "      <td>0.08585</td>\n",
       "      <td>0.04951</td>\n",
       "      <td>0.08584</td>\n",
       "      <td>6</td>\n",
       "      <td>True</td>\n",
       "      <td>3</td>\n",
       "      <td>7</td>\n",
       "      <td>-0.5</td>\n",
       "      <td>-0.866025</td>\n",
       "      <td>-1.0</td>\n",
       "      <td>-1.836970e-16</td>\n",
       "      <td>-0.781831</td>\n",
       "      <td>0.623490</td>\n",
       "      <td>0.04951</td>\n",
       "      <td>NaN</td>\n",
       "    </tr>\n",
       "    <tr>\n",
       "      <th>2</th>\n",
       "      <td>BTC</td>\n",
       "      <td>2010-07-19</td>\n",
       "      <td>0.08584</td>\n",
       "      <td>0.09307</td>\n",
       "      <td>0.07723</td>\n",
       "      <td>0.08080</td>\n",
       "      <td>0</td>\n",
       "      <td>False</td>\n",
       "      <td>3</td>\n",
       "      <td>7</td>\n",
       "      <td>-0.5</td>\n",
       "      <td>-0.866025</td>\n",
       "      <td>-1.0</td>\n",
       "      <td>-1.836970e-16</td>\n",
       "      <td>0.000000</td>\n",
       "      <td>1.000000</td>\n",
       "      <td>0.08584</td>\n",
       "      <td>0.04951</td>\n",
       "    </tr>\n",
       "    <tr>\n",
       "      <th>3</th>\n",
       "      <td>BTC</td>\n",
       "      <td>2010-07-20</td>\n",
       "      <td>0.08080</td>\n",
       "      <td>0.08181</td>\n",
       "      <td>0.07426</td>\n",
       "      <td>0.07474</td>\n",
       "      <td>1</td>\n",
       "      <td>False</td>\n",
       "      <td>3</td>\n",
       "      <td>7</td>\n",
       "      <td>-0.5</td>\n",
       "      <td>-0.866025</td>\n",
       "      <td>-1.0</td>\n",
       "      <td>-1.836970e-16</td>\n",
       "      <td>0.781831</td>\n",
       "      <td>0.623490</td>\n",
       "      <td>0.08080</td>\n",
       "      <td>0.08584</td>\n",
       "    </tr>\n",
       "    <tr>\n",
       "      <th>4</th>\n",
       "      <td>BTC</td>\n",
       "      <td>2010-07-21</td>\n",
       "      <td>0.07474</td>\n",
       "      <td>0.07921</td>\n",
       "      <td>0.06634</td>\n",
       "      <td>0.07921</td>\n",
       "      <td>2</td>\n",
       "      <td>False</td>\n",
       "      <td>3</td>\n",
       "      <td>7</td>\n",
       "      <td>-0.5</td>\n",
       "      <td>-0.866025</td>\n",
       "      <td>-1.0</td>\n",
       "      <td>-1.836970e-16</td>\n",
       "      <td>0.974928</td>\n",
       "      <td>-0.222521</td>\n",
       "      <td>0.07474</td>\n",
       "      <td>0.08080</td>\n",
       "    </tr>\n",
       "  </tbody>\n",
       "</table>\n",
       "</div>"
      ]
     },
     "execution_count": 48,
     "metadata": {},
     "output_type": "execute_result"
    }
   ],
   "execution_count": 48
  },
  {
   "metadata": {},
   "cell_type": "code",
   "outputs": [],
   "execution_count": null,
   "source": "",
   "id": "d4c9b4a02671d1c1"
  }
 ],
 "metadata": {
  "kernelspec": {
   "display_name": "Python 3",
   "language": "python",
   "name": "python3"
  },
  "language_info": {
   "codemirror_mode": {
    "name": "ipython",
    "version": 2
   },
   "file_extension": ".py",
   "mimetype": "text/x-python",
   "name": "python",
   "nbconvert_exporter": "python",
   "pygments_lexer": "ipython2",
   "version": "2.7.6"
  }
 },
 "nbformat": 4,
 "nbformat_minor": 5
}
